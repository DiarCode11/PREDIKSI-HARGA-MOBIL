{
 "cells": [
  {
   "cell_type": "markdown",
   "metadata": {},
   "source": [
    "Tampilkan Dataset"
   ]
  },
  {
   "cell_type": "code",
   "execution_count": 1,
   "metadata": {},
   "outputs": [
    {
     "name": "stdout",
     "output_type": "stream",
     "text": [
      "                                     name  year  selling_price  km_driven  \\\n",
      "0                           Maruti 800 AC  2007          60000      70000   \n",
      "1                Maruti Wagon R LXI Minor  2007         135000      50000   \n",
      "2                    Hyundai Verna 1.6 SX  2012         600000     100000   \n",
      "3                  Datsun RediGO T Option  2017         250000      46000   \n",
      "4                   Honda Amaze VX i-DTEC  2014         450000     141000   \n",
      "...                                   ...   ...            ...        ...   \n",
      "4335  Hyundai i20 Magna 1.4 CRDi (Diesel)  2014         409999      80000   \n",
      "4336           Hyundai i20 Magna 1.4 CRDi  2014         409999      80000   \n",
      "4337                  Maruti 800 AC BSIII  2009         110000      83000   \n",
      "4338     Hyundai Creta 1.6 CRDi SX Option  2016         865000      90000   \n",
      "4339                     Renault KWID RXT  2016         225000      40000   \n",
      "\n",
      "        fuel seller_type transmission         owner  \n",
      "0     Petrol  Individual       Manual   First Owner  \n",
      "1     Petrol  Individual       Manual   First Owner  \n",
      "2     Diesel  Individual       Manual   First Owner  \n",
      "3     Petrol  Individual       Manual   First Owner  \n",
      "4     Diesel  Individual       Manual  Second Owner  \n",
      "...      ...         ...          ...           ...  \n",
      "4335  Diesel  Individual       Manual  Second Owner  \n",
      "4336  Diesel  Individual       Manual  Second Owner  \n",
      "4337  Petrol  Individual       Manual  Second Owner  \n",
      "4338  Diesel  Individual       Manual   First Owner  \n",
      "4339  Petrol  Individual       Manual   First Owner  \n",
      "\n",
      "[4340 rows x 8 columns]\n"
     ]
    }
   ],
   "source": [
    "# Impor pustaka yang diperlukan\n",
    "import pandas as pd\n",
    "from sklearn.model_selection import train_test_split\n",
    "from sklearn.linear_model import LinearRegression\n",
    "from sklearn.metrics import mean_squared_error, r2_score, mean_absolute_error\n",
    "import numpy as np\n",
    "\n",
    "# Membaca dataset dari file CSV\n",
    "data = pd.read_csv('CAR DATA.csv')\n",
    "print(data)"
   ]
  },
  {
   "cell_type": "markdown",
   "metadata": {},
   "source": [
    "Cek Data Null"
   ]
  },
  {
   "cell_type": "code",
   "execution_count": 2,
   "metadata": {},
   "outputs": [
    {
     "name": "stdout",
     "output_type": "stream",
     "text": [
      "Jumlah nilai null di setiap kolom:\n",
      " name             0\n",
      "year             0\n",
      "selling_price    0\n",
      "km_driven        0\n",
      "fuel             0\n",
      "seller_type      0\n",
      "transmission     0\n",
      "owner            0\n",
      "dtype: int64\n"
     ]
    }
   ],
   "source": [
    "# Periksa nilai null\n",
    "nilai_null = data.isnull().sum()\n",
    "\n",
    "# Cetak jumlah nilai null untuk setiap kolom\n",
    "print(\"Jumlah nilai null di setiap kolom:\\n\", nilai_null)\n"
   ]
  },
  {
   "cell_type": "markdown",
   "metadata": {},
   "source": [
    "Ambil Nama Merk"
   ]
  },
  {
   "cell_type": "code",
   "execution_count": 3,
   "metadata": {},
   "outputs": [
    {
     "name": "stdout",
     "output_type": "stream",
     "text": [
      "\n",
      "Dataframe :\n",
      "      year  selling_price  km_driven    fuel seller_type transmission  \\\n",
      "0     2007          60000      70000  Petrol  Individual       Manual   \n",
      "1     2007         135000      50000  Petrol  Individual       Manual   \n",
      "2     2012         600000     100000  Diesel  Individual       Manual   \n",
      "3     2017         250000      46000  Petrol  Individual       Manual   \n",
      "4     2014         450000     141000  Diesel  Individual       Manual   \n",
      "...    ...            ...        ...     ...         ...          ...   \n",
      "4335  2014         409999      80000  Diesel  Individual       Manual   \n",
      "4336  2014         409999      80000  Diesel  Individual       Manual   \n",
      "4337  2009         110000      83000  Petrol  Individual       Manual   \n",
      "4338  2016         865000      90000  Diesel  Individual       Manual   \n",
      "4339  2016         225000      40000  Petrol  Individual       Manual   \n",
      "\n",
      "             owner     merk  \n",
      "0      First Owner   Maruti  \n",
      "1      First Owner   Maruti  \n",
      "2      First Owner  Hyundai  \n",
      "3      First Owner   Datsun  \n",
      "4     Second Owner    Honda  \n",
      "...            ...      ...  \n",
      "4335  Second Owner  Hyundai  \n",
      "4336  Second Owner  Hyundai  \n",
      "4337  Second Owner   Maruti  \n",
      "4338   First Owner  Hyundai  \n",
      "4339   First Owner  Renault  \n",
      "\n",
      "[4340 rows x 8 columns]\n"
     ]
    }
   ],
   "source": [
    "# Pisahkan kolom 'merk' dan ambil array pertama sebagai 'Merek'\n",
    "data['merk'] = data['name'].str.split(' ').str[0]\n",
    "\n",
    "# Hapus kolom 'name' jika tidak lagi diperlukan\n",
    "data.drop(columns=['name'], inplace=True)\n",
    "\n",
    "print(\"\\nDataframe :\")\n",
    "print(data)"
   ]
  },
  {
   "cell_type": "markdown",
   "metadata": {},
   "source": [
    "Lakukan One Hot Encoding Pada kolom kolom non-numerik"
   ]
  },
  {
   "cell_type": "code",
   "execution_count": 4,
   "metadata": {},
   "outputs": [
    {
     "name": "stdout",
     "output_type": "stream",
     "text": [
      "\n",
      "Dataframe setelah one-hot encoding pada kolom 'Merek':\n",
      "Index(['year', 'selling_price', 'km_driven', 'seller_type', 'transmission',\n",
      "       'owner', 'merk_Audi', 'merk_BMW', 'merk_Chevrolet', 'merk_Daewoo',\n",
      "       'merk_Datsun', 'merk_Fiat', 'merk_Force', 'merk_Ford', 'merk_Honda',\n",
      "       'merk_Hyundai', 'merk_Isuzu', 'merk_Jaguar', 'merk_Jeep', 'merk_Kia',\n",
      "       'merk_Land', 'merk_MG', 'merk_Mahindra', 'merk_Maruti',\n",
      "       'merk_Mercedes-Benz', 'merk_Mitsubishi', 'merk_Nissan',\n",
      "       'merk_OpelCorsa', 'merk_Renault', 'merk_Skoda', 'merk_Tata',\n",
      "       'merk_Toyota', 'merk_Volkswagen', 'merk_Volvo', 'fuel_Diesel',\n",
      "       'fuel_Electric', 'fuel_LPG', 'fuel_Petrol'],\n",
      "      dtype='object')\n"
     ]
    },
    {
     "name": "stderr",
     "output_type": "stream",
     "text": [
      "C:\\Users\\hp\\AppData\\Local\\Temp\\ipykernel_10548\\20544346.py:2: FutureWarning: Downcasting behavior in `replace` is deprecated and will be removed in a future version. To retain the old behavior, explicitly call `result.infer_objects(copy=False)`. To opt-in to the future behavior, set `pd.set_option('future.no_silent_downcasting', True)`\n",
      "  data['owner'] = data['owner'].replace({'First Owner': 1, 'Second Owner': 2, 'Third Owner': 3, 'Fourth & Above Owner': 4, 'Test Drive Car': 5})\n",
      "C:\\Users\\hp\\AppData\\Local\\Temp\\ipykernel_10548\\20544346.py:3: FutureWarning: Downcasting behavior in `replace` is deprecated and will be removed in a future version. To retain the old behavior, explicitly call `result.infer_objects(copy=False)`. To opt-in to the future behavior, set `pd.set_option('future.no_silent_downcasting', True)`\n",
      "  data['transmission'] = data['transmission'].replace({'Manual': 1, 'Automatic': 2})\n",
      "C:\\Users\\hp\\AppData\\Local\\Temp\\ipykernel_10548\\20544346.py:4: FutureWarning: Downcasting behavior in `replace` is deprecated and will be removed in a future version. To retain the old behavior, explicitly call `result.infer_objects(copy=False)`. To opt-in to the future behavior, set `pd.set_option('future.no_silent_downcasting', True)`\n",
      "  data['seller_type'] = data['seller_type'].replace({'Individual': 1, 'Dealer': 2, 'Trustmark Dealer': 3})\n"
     ]
    }
   ],
   "source": [
    "# One-Hot Encoding pada kolom 'merk'\n",
    "data['owner'] = data['owner'].replace({'First Owner': 1, 'Second Owner': 2, 'Third Owner': 3, 'Fourth & Above Owner': 4, 'Test Drive Car': 5})\n",
    "data['transmission'] = data['transmission'].replace({'Manual': 1, 'Automatic': 2})\n",
    "data['seller_type'] = data['seller_type'].replace({'Individual': 1, 'Dealer': 2, 'Trustmark Dealer': 3})\n",
    "\n",
    "data_encoded = pd.get_dummies(data, columns=['merk', 'fuel'], drop_first=True)\n",
    "\n",
    "print(\"\\nDataframe setelah one-hot encoding pada kolom 'Merek':\")\n",
    "print(data_encoded.columns)"
   ]
  },
  {
   "cell_type": "markdown",
   "metadata": {},
   "source": [
    "Pisahkan Fitur dan Target"
   ]
  },
  {
   "cell_type": "code",
   "execution_count": 5,
   "metadata": {},
   "outputs": [
    {
     "name": "stdout",
     "output_type": "stream",
     "text": [
      "Index(['year', 'km_driven', 'seller_type', 'transmission', 'owner',\n",
      "       'merk_Audi', 'merk_BMW', 'merk_Chevrolet', 'merk_Daewoo', 'merk_Datsun',\n",
      "       'merk_Fiat', 'merk_Force', 'merk_Ford', 'merk_Honda', 'merk_Hyundai',\n",
      "       'merk_Isuzu', 'merk_Jaguar', 'merk_Jeep', 'merk_Kia', 'merk_Land',\n",
      "       'merk_MG', 'merk_Mahindra', 'merk_Maruti', 'merk_Mercedes-Benz',\n",
      "       'merk_Mitsubishi', 'merk_Nissan', 'merk_OpelCorsa', 'merk_Renault',\n",
      "       'merk_Skoda', 'merk_Tata', 'merk_Toyota', 'merk_Volkswagen',\n",
      "       'merk_Volvo', 'fuel_Diesel', 'fuel_Electric', 'fuel_LPG',\n",
      "       'fuel_Petrol'],\n",
      "      dtype='object')\n"
     ]
    }
   ],
   "source": [
    "# Pisahkan target dan fitur\n",
    "X = data_encoded.drop('selling_price', axis=1)\n",
    "y = data_encoded['selling_price']\n",
    "\n",
    "print(X.columns)"
   ]
  },
  {
   "cell_type": "markdown",
   "metadata": {},
   "source": [
    "Normalisasi dengan Min Max Scaler"
   ]
  },
  {
   "cell_type": "code",
   "execution_count": 6,
   "metadata": {},
   "outputs": [
    {
     "name": "stdout",
     "output_type": "stream",
     "text": [
      "DataFrame setelah normalisasi:\n",
      "          year  km_driven  seller_type  transmission  owner  merk_Audi  \\\n",
      "0     0.535714   0.086783          0.0           0.0   0.00        0.0   \n",
      "1     0.535714   0.061988          0.0           0.0   0.00        0.0   \n",
      "2     0.714286   0.123976          0.0           0.0   0.00        0.0   \n",
      "3     0.892857   0.057028          0.0           0.0   0.00        0.0   \n",
      "4     0.785714   0.174807          0.0           0.0   0.25        0.0   \n",
      "...        ...        ...          ...           ...    ...        ...   \n",
      "4335  0.785714   0.099181          0.0           0.0   0.25        0.0   \n",
      "4336  0.785714   0.099181          0.0           0.0   0.25        0.0   \n",
      "4337  0.607143   0.102900          0.0           0.0   0.25        0.0   \n",
      "4338  0.857143   0.111579          0.0           0.0   0.00        0.0   \n",
      "4339  0.857143   0.049590          0.0           0.0   0.00        0.0   \n",
      "\n",
      "      merk_BMW  merk_Chevrolet  merk_Daewoo  merk_Datsun  ...  merk_Renault  \\\n",
      "0          0.0             0.0          0.0          0.0  ...           0.0   \n",
      "1          0.0             0.0          0.0          0.0  ...           0.0   \n",
      "2          0.0             0.0          0.0          0.0  ...           0.0   \n",
      "3          0.0             0.0          0.0          1.0  ...           0.0   \n",
      "4          0.0             0.0          0.0          0.0  ...           0.0   \n",
      "...        ...             ...          ...          ...  ...           ...   \n",
      "4335       0.0             0.0          0.0          0.0  ...           0.0   \n",
      "4336       0.0             0.0          0.0          0.0  ...           0.0   \n",
      "4337       0.0             0.0          0.0          0.0  ...           0.0   \n",
      "4338       0.0             0.0          0.0          0.0  ...           0.0   \n",
      "4339       0.0             0.0          0.0          0.0  ...           1.0   \n",
      "\n",
      "      merk_Skoda  merk_Tata  merk_Toyota  merk_Volkswagen  merk_Volvo  \\\n",
      "0            0.0        0.0          0.0              0.0         0.0   \n",
      "1            0.0        0.0          0.0              0.0         0.0   \n",
      "2            0.0        0.0          0.0              0.0         0.0   \n",
      "3            0.0        0.0          0.0              0.0         0.0   \n",
      "4            0.0        0.0          0.0              0.0         0.0   \n",
      "...          ...        ...          ...              ...         ...   \n",
      "4335         0.0        0.0          0.0              0.0         0.0   \n",
      "4336         0.0        0.0          0.0              0.0         0.0   \n",
      "4337         0.0        0.0          0.0              0.0         0.0   \n",
      "4338         0.0        0.0          0.0              0.0         0.0   \n",
      "4339         0.0        0.0          0.0              0.0         0.0   \n",
      "\n",
      "      fuel_Diesel  fuel_Electric  fuel_LPG  fuel_Petrol  \n",
      "0             0.0            0.0       0.0          1.0  \n",
      "1             0.0            0.0       0.0          1.0  \n",
      "2             1.0            0.0       0.0          0.0  \n",
      "3             0.0            0.0       0.0          1.0  \n",
      "4             1.0            0.0       0.0          0.0  \n",
      "...           ...            ...       ...          ...  \n",
      "4335          1.0            0.0       0.0          0.0  \n",
      "4336          1.0            0.0       0.0          0.0  \n",
      "4337          0.0            0.0       0.0          1.0  \n",
      "4338          1.0            0.0       0.0          0.0  \n",
      "4339          0.0            0.0       0.0          1.0  \n",
      "\n",
      "[4340 rows x 37 columns]\n"
     ]
    }
   ],
   "source": [
    "from sklearn.preprocessing import MinMaxScaler\n",
    "import joblib\n",
    "\n",
    "# Inisialisasi MinMaxScaler\n",
    "scaler = MinMaxScaler()\n",
    "\n",
    "# Normalisasi fitur\n",
    "data_normalized = scaler.fit_transform(X)\n",
    "\n",
    "# Simpan Scaler ke dalam file\n",
    "joblib.dump(scaler, 'scaler.pkl')\n",
    "\n",
    "# Konversi hasil normalisasi menjadi DataFrame\n",
    "data_normalized = pd.DataFrame(data_normalized, columns=X.columns)\n",
    "\n",
    "print(\"DataFrame setelah normalisasi:\")\n",
    "print(data_normalized)"
   ]
  },
  {
   "cell_type": "markdown",
   "metadata": {},
   "source": [
    "Bagi data menjadi Data Test dan Data Train"
   ]
  },
  {
   "cell_type": "code",
   "execution_count": 7,
   "metadata": {},
   "outputs": [
    {
     "name": "stdout",
     "output_type": "stream",
     "text": [
      "Jumlah baris dari X_train: 3472\n",
      "Jumlah baris dari X_test: 868\n"
     ]
    }
   ],
   "source": [
    "from sklearn.model_selection import train_test_split\n",
    "\n",
    "# Bagi data menjadi set pelatihan dan pengujian\n",
    "X_train, X_test, y_train, y_test = train_test_split(X, y, test_size=0.2, random_state=42)\n",
    "\n",
    "# Cetak jumlah baris dari X_train\n",
    "print('Jumlah baris dari X_train:', len(X_train))\n",
    "# Cetak nilai baris dari y_train\n",
    "print('Jumlah baris dari X_test:', len(X_test))"
   ]
  },
  {
   "cell_type": "markdown",
   "metadata": {},
   "source": [
    "Latih Menggunakan Linier Regression"
   ]
  },
  {
   "cell_type": "code",
   "execution_count": 8,
   "metadata": {},
   "outputs": [
    {
     "name": "stdout",
     "output_type": "stream",
     "text": [
      "Mean Squared Error: 144963993893.62555\n",
      "R-squared score: 0.5249734312158425\n"
     ]
    }
   ],
   "source": [
    "from sklearn.linear_model import LinearRegression\n",
    "from sklearn.metrics import mean_squared_error, r2_score\n",
    "\n",
    "# Buat model regresi linear\n",
    "model = LinearRegression()\n",
    "\n",
    "# Latih model\n",
    "model.fit(X_train, y_train)\n",
    "\n",
    "# Prediksi harga pada set pengujian\n",
    "y_pred = model.predict(X_test)\n",
    "\n",
    "# Menghitung R-squared score\n",
    "r2 = r2_score(y_test, y_pred)\n",
    "# Evaluasi model dengan MSE\n",
    "mse = mean_squared_error(y_test, y_pred)\n",
    "\n",
    "print(\"Mean Squared Error:\", mse)\n",
    "print(\"R-squared score:\", r2)"
   ]
  },
  {
   "cell_type": "markdown",
   "metadata": {},
   "source": [
    "Latih Menggunakan Random Forest Regressor"
   ]
  },
  {
   "cell_type": "code",
   "execution_count": 9,
   "metadata": {},
   "outputs": [
    {
     "name": "stdout",
     "output_type": "stream",
     "text": [
      "Mean Squared Error: 77734059243.23125\n",
      "Mean Absolute Error: 114666.70477399038\n",
      "R-squared score: 0.7452764479773326\n"
     ]
    }
   ],
   "source": [
    "from sklearn.ensemble import RandomForestRegressor\n",
    "from sklearn.metrics import mean_squared_error, r2_score, mean_absolute_error\n",
    "\n",
    "# Buat model Random Forest Regressor\n",
    "randomForest_model = RandomForestRegressor(n_estimators=90, max_depth=25, random_state=42)\n",
    "\n",
    "# Latih model\n",
    "randomForest_model.fit(X_train, y_train)\n",
    "\n",
    "# Prediksi harga pada set pengujian\n",
    "y_pred = randomForest_model.predict(X_test)\n",
    "\n",
    "# Menghitung R-squared score\n",
    "r2 = r2_score(y_test, y_pred)\n",
    "# Evaluasi model dengan MSE\n",
    "mse = mean_squared_error(y_test, y_pred)\n",
    "# Evaluasi model dengan MAE\n",
    "mae = mean_absolute_error(y_test, y_pred)\n",
    "\n",
    "print(\"Mean Squared Error:\", mse)\n",
    "print(\"Mean Absolute Error:\", mae)\n",
    "print(\"R-squared score:\", r2)"
   ]
  },
  {
   "cell_type": "code",
   "execution_count": 10,
   "metadata": {},
   "outputs": [
    {
     "name": "stdout",
     "output_type": "stream",
     "text": [
      "Prediksi harga untuk data baru: [437639.09321789]\n"
     ]
    },
    {
     "name": "stderr",
     "output_type": "stream",
     "text": [
      "c:\\Users\\hp\\AppData\\Local\\Programs\\Python\\Python312\\Lib\\site-packages\\sklearn\\base.py:493: UserWarning: X does not have valid feature names, but RandomForestRegressor was fitted with feature names\n",
      "  warnings.warn(\n"
     ]
    }
   ],
   "source": [
    "X_new = [[2015, 60000, 2, 1, 1, False,  False, False, False, False, False, False, False, False, False, False, False, False, False, False, False, False, False, False, False, False, False, False, False, False, False, False, False, True, False, False, False]]\n",
    "\n",
    "# Prediksi harga untuk data baru\n",
    "y_new_pred = randomForest_model.predict(X_new)\n",
    "\n",
    "# Tampilkan hasil prediksi\n",
    "print(\"Prediksi harga untuk data baru:\", y_new_pred)"
   ]
  },
  {
   "cell_type": "code",
   "execution_count": 11,
   "metadata": {},
   "outputs": [
    {
     "data": {
      "text/plain": [
       "['random_forest_model.pkl']"
      ]
     },
     "execution_count": 11,
     "metadata": {},
     "output_type": "execute_result"
    }
   ],
   "source": [
    "import joblib\n",
    "\n",
    "# Simpan model ke dalam file\n",
    "joblib.dump(randomForest_model, 'random_forest_model.pkl')"
   ]
  },
  {
   "cell_type": "markdown",
   "metadata": {},
   "source": [
    "Latih Menggunakan K-Nearest Neighbors (KNN)"
   ]
  },
  {
   "cell_type": "code",
   "execution_count": 12,
   "metadata": {},
   "outputs": [
    {
     "name": "stdout",
     "output_type": "stream",
     "text": [
      "Mean Squared Error: 195173654372.1304\n",
      "R-squared score: 0.360443453141263\n"
     ]
    }
   ],
   "source": [
    "from sklearn.neighbors import KNeighborsRegressor\n",
    "from sklearn.metrics import mean_squared_error, r2_score\n",
    "\n",
    "# Buat model KNN Regressor\n",
    "KNN_model = KNeighborsRegressor()\n",
    "\n",
    "# Latih model\n",
    "KNN_model.fit(X_train, y_train)\n",
    "\n",
    "# Prediksi harga pada set pengujian\n",
    "y_pred = KNN_model.predict(X_test)\n",
    "\n",
    "# Menghitung R-squared score\n",
    "r2 = r2_score(y_test, y_pred)\n",
    "# Evaluasi model dengan MSE\n",
    "mse = mean_squared_error(y_test, y_pred)\n",
    "\n",
    "print(\"Mean Squared Error:\", mse)\n",
    "print(\"R-squared score:\", r2)\n"
   ]
  },
  {
   "cell_type": "markdown",
   "metadata": {},
   "source": [
    "Latih Menggunakan Support Vector Regressor"
   ]
  },
  {
   "cell_type": "code",
   "execution_count": 13,
   "metadata": {},
   "outputs": [
    {
     "name": "stdout",
     "output_type": "stream",
     "text": [
      "Mean Squared Error: 324531959368.6468\n",
      "R-squared score: -0.06344547345192031\n"
     ]
    }
   ],
   "source": [
    "from sklearn.preprocessing import StandardScaler\n",
    "from sklearn.metrics import mean_squared_error, r2_score\n",
    "from sklearn.svm import SVR\n",
    "\n",
    "# Buat model SVR\n",
    "model = SVR()\n",
    "\n",
    "# Latih model\n",
    "model.fit(X_train, y_train)\n",
    "\n",
    "# Prediksi harga pada set pengujian\n",
    "y_pred = model.predict(X_test)\n",
    "\n",
    "# Menghitung R-squared score\n",
    "r2 = r2_score(y_test, y_pred)\n",
    "# Evaluasi model dengan MSE\n",
    "mse = mean_squared_error(y_test, y_pred)\n",
    "\n",
    "print(\"Mean Squared Error:\", mse)\n",
    "print(\"R-squared score:\", r2)"
   ]
  },
  {
   "cell_type": "markdown",
   "metadata": {},
   "source": [
    "Latih Menggunakan Gradient Boosting"
   ]
  },
  {
   "cell_type": "code",
   "execution_count": 14,
   "metadata": {},
   "outputs": [
    {
     "name": "stdout",
     "output_type": "stream",
     "text": [
      "Mean Squared Error: 96608084937.83217\n",
      "Mean Absolute Error: 145953.09836773513\n",
      "R-squared score: 0.6834289269202811\n"
     ]
    }
   ],
   "source": [
    "from sklearn.ensemble import GradientBoostingRegressor\n",
    "from sklearn.metrics import mean_squared_error, r2_score, mean_absolute_error\n",
    "\n",
    "# Buat model Gradient Boosting Regressor\n",
    "gradientBoosting_model = GradientBoostingRegressor(random_state=42)\n",
    "\n",
    "# Latih model\n",
    "gradientBoosting_model.fit(X_train, y_train)\n",
    "\n",
    "# Prediksi harga pada set pengujian\n",
    "y_pred = gradientBoosting_model.predict(X_test)\n",
    "\n",
    "# Menghitung R-squared score\n",
    "r2 = r2_score(y_test, y_pred)\n",
    "# Evaluasi model dengan MSE\n",
    "mse = mean_squared_error(y_test, y_pred)\n",
    "# Evaluasi model dengan MAE\n",
    "mae = mean_absolute_error(y_test, y_pred)\n",
    "\n",
    "print(\"Mean Squared Error:\", mse)\n",
    "print(\"Mean Absolute Error:\", mae)\n",
    "print(\"R-squared score:\", r2)\n"
   ]
  },
  {
   "cell_type": "markdown",
   "metadata": {},
   "source": [
    "Latih Menggunakan Bayessian Model"
   ]
  },
  {
   "cell_type": "code",
   "execution_count": 15,
   "metadata": {},
   "outputs": [
    {
     "name": "stdout",
     "output_type": "stream",
     "text": [
      "Mean Squared Error: 292838264415.65094\n",
      "Mean Absolute Error: 300580.0262886838\n",
      "R-squared score: 0.04041029625501125\n"
     ]
    }
   ],
   "source": [
    "from sklearn.linear_model import BayesianRidge\n",
    "from sklearn.metrics import mean_squared_error, r2_score, mean_absolute_error\n",
    "\n",
    "# Buat model Bayesian Ridge Regression\n",
    "bayesian_model = BayesianRidge()\n",
    "\n",
    "# Latih model\n",
    "bayesian_model.fit(X_train, y_train)\n",
    "\n",
    "# Prediksi harga pada set pengujian\n",
    "y_pred = bayesian_model.predict(X_test)\n",
    "\n",
    "# Menghitung R-squared score\n",
    "r2 = r2_score(y_test, y_pred)\n",
    "# Evaluasi model dengan MSE\n",
    "mse = mean_squared_error(y_test, y_pred)\n",
    "# Evaluasi model dengan MAE\n",
    "mae = mean_absolute_error(y_test, y_pred)\n",
    "\n",
    "print(\"Mean Squared Error:\", mse)\n",
    "print(\"Mean Absolute Error:\", mae)\n",
    "print(\"R-squared score:\", r2)"
   ]
  },
  {
   "cell_type": "markdown",
   "metadata": {},
   "source": [
    "Latih Menggunakan Neural Network"
   ]
  },
  {
   "cell_type": "code",
   "execution_count": 16,
   "metadata": {},
   "outputs": [
    {
     "name": "stdout",
     "output_type": "stream",
     "text": [
      "Mean Squared Error: 284458425665.9049\n",
      "Mean Absolute Error: 294113.6414323714\n",
      "R-squared score: 0.06786984632216364\n"
     ]
    }
   ],
   "source": [
    "from sklearn.neural_network import MLPRegressor\n",
    "from sklearn.metrics import mean_squared_error, r2_score, mean_absolute_error\n",
    "\n",
    "# Buat model Neural Network (MLPRegressor)\n",
    "nn_model = MLPRegressor(hidden_layer_sizes=(100, 50), max_iter=500, random_state=42)\n",
    "\n",
    "# Latih model\n",
    "nn_model.fit(X_train, y_train)\n",
    "\n",
    "# Prediksi harga pada set pengujian\n",
    "y_pred = nn_model.predict(X_test)\n",
    "\n",
    "# Menghitung R-squared score\n",
    "r2 = r2_score(y_test, y_pred)\n",
    "# Evaluasi model dengan MSE\n",
    "mse = mean_squared_error(y_test, y_pred)\n",
    "# Evaluasi model dengan MAE\n",
    "mae = mean_absolute_error(y_test, y_pred)\n",
    "\n",
    "print(\"Mean Squared Error:\", mse)\n",
    "print(\"Mean Absolute Error:\", mae)\n",
    "print(\"R-squared score:\", r2)\n"
   ]
  },
  {
   "cell_type": "markdown",
   "metadata": {},
   "source": [
    "Simpan Model"
   ]
  },
  {
   "cell_type": "code",
   "execution_count": 17,
   "metadata": {},
   "outputs": [],
   "source": [
    "import pickle\n",
    "\n",
    "# Asumsikan `model` adalah model yang sudah dilatih\n",
    "with open('random_forest_model.pkl', 'wb') as f:\n",
    "    pickle.dump(model, f)\n"
   ]
  }
 ],
 "metadata": {
  "kernelspec": {
   "display_name": "base",
   "language": "python",
   "name": "python3"
  },
  "language_info": {
   "codemirror_mode": {
    "name": "ipython",
    "version": 3
   },
   "file_extension": ".py",
   "mimetype": "text/x-python",
   "name": "python",
   "nbconvert_exporter": "python",
   "pygments_lexer": "ipython3",
   "version": "3.12.2"
  }
 },
 "nbformat": 4,
 "nbformat_minor": 2
}
